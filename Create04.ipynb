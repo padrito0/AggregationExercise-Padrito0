{
    "cells": [
        {
            "attachments": {},
            "cell_type": "markdown",
            "metadata": {
                "azdata_cell_guid": "c49df266-eea7-418f-acc9-9933b50f3469"
            },
            "source": [
                "# Aggregation\n",
                "\n",
                "## **Getting Started**\n",
                "\n",
                "This week we will be learning how to how to aggregate data using queries.\n",
                "\n",
                "**Before beginning:** It is recommended that you open/download the _guitar store ERD_ that is available in the Github repo from the Create 3 assignment so you can review it during this assignment."
            ]
        },
        {
            "attachments": {},
            "cell_type": "markdown",
            "metadata": {
                "azdata_cell_guid": "5236f051-1b23-4787-a637-7a62b9e9b305"
            },
            "source": [
                "## **Aggregates**\n",
                "\n",
                "We can use SQL code to perform aggregate functions on our data. This allows us to do calculations like summing, finding the maximum, or taking an average. These aggregate functions can be added to the select statement of our queries like the code cell below. In this code cell we are going to find the total amount of orders that have been placed."
            ]
        },
        {
            "cell_type": "code",
            "execution_count": null,
            "metadata": {
                "azdata_cell_guid": "8f8b02a6-dca1-4ca4-9795-b4b2e0407183",
                "language": "sql",
                "tags": []
            },
            "outputs": [],
            "source": [
                "SELECT COUNT(*)\n",
                "FROM gs_orders"
            ]
        },
        {
            "attachments": {},
            "cell_type": "markdown",
            "metadata": {
                "azdata_cell_guid": "86853871-0cf5-4a67-b5fc-079b04735718",
                "language": "sql"
            },
            "source": [
                "In the above query, we did a count operation on all records in the order table. We used the \\* because we wanted to count all records in the table, without referencing a specific column. This returned 41 records. The result did not have a name for our column because we were doing an operation. It is good practice to alias columns like this so that the output is clear. Below is an example of how we can use AS to alias a column."
            ]
        },
        {
            "cell_type": "code",
            "execution_count": null,
            "metadata": {
                "azdata_cell_guid": "59ae9019-2884-4621-9567-8a15a03b8424",
                "language": "sql"
            },
            "outputs": [],
            "source": [
                "SELECT COUNT(*) AS num_of_orders\n",
                "FROM gs_orders"
            ]
        },
        {
            "attachments": {},
            "cell_type": "markdown",
            "metadata": {
                "azdata_cell_guid": "b9f32ca6-6511-4bd6-aca3-cd23fa4a0fb0",
                "language": "sql"
            },
            "source": [
                "✏️ **Practice**\n",
                "\n",
                "Try making a new query that will show the sum of all the tax charged in the order table. Name the aggregate field \"TotalTax\""
            ]
        },
        {
            "cell_type": "code",
            "execution_count": null,
            "metadata": {
                "azdata_cell_guid": "edafaec7-bf63-451c-b5d6-f5456176e6d0",
                "language": "sql"
            },
            "outputs": [],
            "source": [
                "--Type your query below this line\n",
                "SELECT SUM(tax_amount) AS TotalTax\n",
                "FROM gs_orders;"
            ]
        },
        {
            "attachments": {},
            "cell_type": "markdown",
            "metadata": {
                "azdata_cell_guid": "c3a96a29-fd3f-4ea6-b1ff-13c940c67711",
                "language": "sql"
            },
            "source": [
                "If done correctly, your query should return 2541.96"
            ]
        },
        {
            "attachments": {},
            "cell_type": "markdown",
            "metadata": {
                "azdata_cell_guid": "59b7e97a-4994-407b-bb03-1705445d5970",
                "language": "sql"
            },
            "source": [
                "When using aggregates, you are able to show aggregate values as subtotals of different groups. For example, instaed of showing just the total count, we could show the count of orders grouped by any of the other fields in the table. To do this, we use a GROUP BY clause. In the below code cell we will query the total number of orders by CardType."
            ]
        },
        {
            "cell_type": "code",
            "execution_count": null,
            "metadata": {
                "azdata_cell_guid": "fa7b52c3-1c79-43c2-87a3-ffac355a3265",
                "language": "sql"
            },
            "outputs": [],
            "source": [
                "SELECT o.card_type, COUNT(*) AS total_orders\n",
                "FROM gs_orders AS o\n",
                "GROUP BY o.card_type"
            ]
        },
        {
            "attachments": {},
            "cell_type": "markdown",
            "metadata": {
                "azdata_cell_guid": "aff95181-19d3-4443-afca-19399bed1412",
                "language": "sql"
            },
            "source": [
                "You can see that the above query returns the total number of orders for each type of card. If we add the values from the TotalOrders column, we get 41, which is out total number of orders from before. By using joins and aggregations, we can make our queries more powerful. Below is an example that shows how many products are in each category."
            ]
        },
        {
            "cell_type": "code",
            "execution_count": null,
            "metadata": {
                "azdata_cell_guid": "087c386c-1666-470b-be3f-660cb3f2631f",
                "language": "sql"
            },
            "outputs": [],
            "source": [
                "SELECT c.category_name, COUNT(*) AS total_products\n",
                "FROM gs_categories as c\n",
                "JOIN gs_products as p ON c.category_id = p.category_id\n",
                "GROUP BY c.category_name"
            ]
        },
        {
            "attachments": {},
            "cell_type": "markdown",
            "metadata": {
                "azdata_cell_guid": "037dc037-4a78-4279-9565-e7fba2fe9573",
                "language": "sql"
            },
            "source": [
                "In the above cell we were able to group records/data from a related table using our JOIN statement."
            ]
        },
        {
            "attachments": {},
            "cell_type": "markdown",
            "metadata": {
                "azdata_cell_guid": "6248fdd4-3b51-40dd-bc0b-dd056fa69e5f",
                "language": "sql"
            },
            "source": [
                "When working with aggregates, every column of your output must either be some type of grouping, or an aggregate. Simply put, if you aren't using the column for aggregation, it must be part of your GROUP BY clause.\n",
                "\n",
                "Below is a query where we do not include all columns in either a group by or an aggregate function. It will result in an error."
            ]
        },
        {
            "cell_type": "code",
            "execution_count": null,
            "metadata": {
                "azdata_cell_guid": "d07b7685-4b43-453a-bc05-bee9a16c9d8b",
                "language": "sql"
            },
            "outputs": [],
            "source": [
                "SELECT c.category_id, c.category_name, COUNT(*) AS total_products\n",
                "FROM gs_categories as c\n",
                "JOIN gs_products as p ON c.category_id = p.category_id\n",
                "GROUP BY c.category_name"
            ]
        },
        {
            "attachments": {},
            "cell_type": "markdown",
            "metadata": {
                "azdata_cell_guid": "d010fd65-ea68-46f8-8509-bdd0b5d22dd5",
                "language": "sql"
            },
            "source": [
                "To fix the above query, we need to include _c.category\\_id_ in our GROUP BY clause. Once that is done, all columns in the SELECT clause will be included in an aggregate function, or in the GROUP BY clause."
            ]
        },
        {
            "cell_type": "code",
            "execution_count": null,
            "metadata": {
                "azdata_cell_guid": "31c5bb73-62dd-4fa2-91db-9ba7e36c1aad",
                "language": "sql"
            },
            "outputs": [],
            "source": [
                "SELECT c.category_id, c.category_name, COUNT(*) AS total_products\n",
                "FROM gs_categories as c\n",
                "JOIN gs_products as p ON c.category_id = p.category_id\n",
                "GROUP BY c.category_id, c.category_name"
            ]
        },
        {
            "attachments": {},
            "cell_type": "markdown",
            "metadata": {
                "azdata_cell_guid": "50c0cd56-949f-444c-82bc-28cb04f401a8",
                "language": "sql"
            },
            "source": [
                "We can apply criteria to these queries as well. In the below code cell we will be using SELECT, FROM, WHERE, JOIN, and GROUP BY to see how many products there are in each category that are listed at less than $800."
            ]
        },
        {
            "cell_type": "code",
            "execution_count": null,
            "metadata": {
                "azdata_cell_guid": "eb92d38a-35f1-48de-b7d0-11c541dcd964",
                "language": "sql"
            },
            "outputs": [],
            "source": [
                "SELECT c.category_name, COUNT(*) AS total_products\n",
                "FROM gs_categories as c\n",
                "JOIN gs_products AS p ON c.category_id = p.category_id\n",
                "WHERE p.list_price < 800\n",
                "GROUP BY c.category_name"
            ]
        },
        {
            "attachments": {},
            "cell_type": "markdown",
            "metadata": {
                "azdata_cell_guid": "49fd3f54-b1bf-4058-8cc1-082d63b6ef75",
                "language": "sql"
            },
            "source": [
                "The above cell gives a return that tells us that two of the basses, two of the drums, and four of the guitars in the product table have a list price of less than $800.\n",
                "\n",
                "Notice that we had to put our WHERE clause before our GROUP BY clause. SQL is very picky about the order of your statements. As a general rule, your statements should be in this order SELECT -\\> FROM -\\> JOIN -\\> WHERE -\\> GROUP BY -\\> HAVING -\\> ORDER BY.  Remeber, this is different than our SQL order of operations. SQL statements are not executed in the order that they are written.\n",
                "\n",
                "This would be an excellent time to cover the HAVING clause. HAVING is similar to WHERE, but applies after aggregation has occured. When using WHERE, you are filtering the data before doing any aggregation, like when we were checking the price just now. When you are using HAVING, you are checking the value after aggregation, so you would be filtering based on the _new_ value for that field. In the below code cell is an example of HAVING that limits the results of our query to Categories that only offer 2 products."
            ]
        },
        {
            "cell_type": "code",
            "execution_count": null,
            "metadata": {
                "azdata_cell_guid": "c67f9504-198f-47a6-a10e-2ef2ebbdb318",
                "language": "sql"
            },
            "outputs": [],
            "source": [
                "SELECT c.category_name, COUNT(*) AS total_products\n",
                "FROM gs_categories AS c\n",
                "JOIN gs_products AS p ON c.category_id = p.category_id\n",
                "GROUP BY c.category_name\n",
                "HAVING COUNT(*) = 2"
            ]
        },
        {
            "attachments": {},
            "cell_type": "markdown",
            "metadata": {
                "azdata_cell_guid": "4ccf054d-cf4e-40dd-97e0-637ddbfe2273"
            },
            "source": [
                "In the above cell we can see that we are no longer pulling in the guitars category because it does not have exactly two products. In SQL there is an order of operations, just like in math. Below is the full order:\n",
                "\n",
                "1. FROM (Selecting which tables)\n",
                "2. WHERE (Filtering the tables)\n",
                "3. GROUP BY (Grouping data into categories)\n",
                "4. HAVING (Filtering based on results of aggregation)\n",
                "5. SELECT (Column selection, aggregation, and column aliasing. Since this comes after having, you can't use column aliases in your having statement)\n",
                "6. ORDER BY (Sorting)\n",
                "7. LIMIT (Limiting amount of rows in result)"
            ]
        },
        {
            "attachments": {},
            "cell_type": "markdown",
            "metadata": {
                "azdata_cell_guid": "a974d594-8f8f-4113-b6cc-d31a3d60faa8"
            },
            "source": [
                "Up to this point, we have only used the COUNT function. There are other aggregation functions that we can use, such as:\n",
                "\n",
                "- SUM (Add all column values together\n",
                "- AVG (Get average of column values)\n",
                "- MIN (Return lowest column value)\n",
                "- MAX (Return highest column value)\n",
                "\n",
                "These functions are meant for numeric data types and must be applied to a specific column, unlike the COUNT function.\n",
                "\n",
                "  \n",
                "\n",
                "In the below code cell we will use the SUM function to show the total amount charged for shipping on all orders."
            ]
        },
        {
            "cell_type": "code",
            "execution_count": null,
            "metadata": {
                "azdata_cell_guid": "d881d78c-a135-4082-8e4c-becf62a6eda3",
                "language": "sql"
            },
            "outputs": [],
            "source": [
                "SELECT SUM(o.ship_amount) AS total_ship_amount\n",
                "FROM gs_orders as o"
            ]
        },
        {
            "attachments": {},
            "cell_type": "markdown",
            "metadata": {
                "azdata_cell_guid": "fbdbcf67-0b2a-4aa3-929f-9972572ecd2a",
                "language": "sql"
            },
            "source": [
                "We can use a GROUP BY clause with these aggregrate functions as well. In the below cell we will group the total shipping amount by the customer id to see how much each customer is paying in shipping."
            ]
        },
        {
            "cell_type": "code",
            "execution_count": null,
            "metadata": {
                "azdata_cell_guid": "d742a1e7-384c-4aa3-af35-9c0fff8f1bf4",
                "language": "sql"
            },
            "outputs": [],
            "source": [
                "SELECT o.customer_id, SUM(o.ship_amount) AS total_ship_amount\n",
                "FROM gs_orders as o\n",
                "GROUP BY o.customer_id"
            ]
        },
        {
            "attachments": {},
            "cell_type": "markdown",
            "metadata": {
                "azdata_cell_guid": "9b0301a6-b9e9-4494-8d4f-5a5a50e37301",
                "language": "sql"
            },
            "source": [
                "When needed, you can include multiple aggregate functions within your return. In the below example we will add the count of orders to our existing query. This will show the total ship amount for each customer, as well as how many orders they placed."
            ]
        },
        {
            "cell_type": "code",
            "execution_count": null,
            "metadata": {
                "azdata_cell_guid": "d6b370de-92d2-402e-9d2a-d87189039a51",
                "language": "sql"
            },
            "outputs": [],
            "source": [
                "SELECT o.customer_id, SUM(o.ship_amount) AS total_ship_amount, COUNT(*) AS total_orders\n",
                "FROM gs_orders as o\n",
                "GROUP BY o.customer_id"
            ]
        },
        {
            "attachments": {},
            "cell_type": "markdown",
            "metadata": {
                "azdata_cell_guid": "803dd1de-ac24-4707-941a-b24e2b119cb5",
                "language": "sql"
            },
            "source": [
                "Just like we can alias columns that are created using aggregate operations, we can alias columns that use mathmatical operations. If we wanted to create a query to show the total amount that a customer paid for an item before tax and shipping, we would need to subtract the discount amount from the item price, and then multiply the result time the quantity. In the below query we create a custom column named subtotal to handle this operation."
            ]
        },
        {
            "cell_type": "code",
            "execution_count": null,
            "metadata": {
                "azdata_cell_guid": "4c2f6efd-c31e-4d3f-89f0-2d9ce2f24dc6",
                "language": "sql"
            },
            "outputs": [],
            "source": [
                "SELECT oi.item_id, oi.item_price, oi.discount_amount, oi.quantity, (oi.item_price - oi.discount_amount) * oi.quantity AS subtotal\n",
                "FROM gs_order_items as oi"
            ]
        },
        {
            "attachments": {},
            "cell_type": "markdown",
            "metadata": {
                "azdata_cell_guid": "fc12b78b-f143-4a31-a489-87c5019c2dbe",
                "language": ""
            },
            "source": [
                "In the above cell we added an operation to our SELECT clause so that we could include a calculated column in our output. We started by putting the difference of item price and discount amount in parethesis to force that operation to be executed first, after that we multiply the result by quantity and alias the final output as subtotal. Now we can easily see the price of an order before taxes and shipping. While it was not necessary to return the columns used in our operation in our final output, I went ahead and included them so that you could check the math and see how the query is working.\n",
                "\n",
                "<span style=\"font-family: -apple-system, BlinkMacSystemFont, sans-serif; color: var(--vscode-foreground);\">Now that you have some experience with custom columns, let's apply this same logic to our aggregate query we were working on before. When we left off we had the sum of shipping charges as well as the number of orders for each customer. Let's add a custom column that shows the amount of shipping per order for each customer.&nbsp;</span>"
            ]
        },
        {
            "cell_type": "code",
            "execution_count": null,
            "metadata": {
                "azdata_cell_guid": "dd095eee-8877-43aa-897a-079458ed2c5f",
                "language": "sql"
            },
            "outputs": [],
            "source": [
                "--While it is not necessary to put each column on it's own line, this particular example is easier to read if we do so.\n",
                "SELECT o.customer_id,\n",
                "SUM(o.ship_amount) AS total_ship_amount,\n",
                "COUNT(*) AS total_orders,\n",
                "SUM(o.ship_amount) / COUNT(*) AS ship_amount_per_order\n",
                "FROM gs_orders as o\n",
                "GROUP BY o.customer_id"
            ]
        },
        {
            "attachments": {},
            "cell_type": "markdown",
            "metadata": {
                "azdata_cell_guid": "83c3deb1-f936-458c-be1d-e06da421c0c7",
                "language": "sql"
            },
            "source": [
                "Note in the above example that we divided the aggregate values by each other. We are able to do this because in the SQL order of operations, aggregation is completed during the GROUP BY operations, so the data has been aggregated and can be operated on further by the time the compiler executes SELECT operations.\n",
                "\n",
                "  \n",
                "\n",
                "It is also for this reason that we cannot use the aggregate column aliases in our custom columns. Those aliases are assigned at the end of the order of operations during the SELECT phase, so they do not exists during the GROUP BY phase when we are aggregating. This means that we cannot write custom aggregation columns like _total\\_ship\\_amount / total\\_orders AS ship\\_amount\\_per\\_order_."
            ]
        },
        {
            "attachments": {},
            "cell_type": "markdown",
            "metadata": {
                "azdata_cell_guid": "d2591862-67ce-4a74-8432-218a821c7099",
                "language": "sql"
            },
            "source": [
                "## **Exercises**\n",
                "\n",
                "If you have not already, I would strongly recommend having access to the ERD linked in Github for these exercises"
            ]
        },
        {
            "attachments": {},
            "cell_type": "markdown",
            "metadata": {
                "azdata_cell_guid": "db6166aa-4fb4-4b50-9bc8-5cc21407973b",
                "language": "sql"
            },
            "source": [
                "1\\. Using the below code cell, return the amount of orders that each customer has placed. The query should include the first name, last name, and total\\_orders as a customer column."
            ]
        },
        {
            "attachments": {},
            "cell_type": "markdown",
            "metadata": {
                "azdata_cell_guid": "d218ba08-0a24-4cd2-ae90-bc899a3c1801",
                "language": "sql"
            },
            "source": [
                "**First 5 rows of correct solution**\n",
                "|first_name|last_name|total_orders|\n",
                "|---|---|---|\n",
                "|Cammy|Albares|1|\n",
                "|Minna|Amigon|1|\n",
                "|Christine|Brown|1|\n",
                "|James|Butt|1|\n",
                "|Kiley|Caldarera|1|"
            ]
        },
        {
            "cell_type": "code",
            "execution_count": null,
            "metadata": {
                "azdata_cell_guid": "4dc49714-af7d-4ed3-9361-f7a392ffa098",
                "language": "sql"
            },
            "outputs": [],
            "source": [
                "--Insert your code below this line.\n",
                "SELECT c.first_name, c.last_name, COUNT(o.order_id) AS total_orders\n",
                "FROM gs_customers AS c\n",
                "JOIN gs_orders AS o ON c.customer_id = o.customer_id\n",
                "GROUP BY c.first_name, c.last_name\n",
                "ORDER BY c.first_name ASC;"
            ]
        },
        {
            "attachments": {},
            "cell_type": "markdown",
            "metadata": {
                "azdata_cell_guid": "a5c9a095-8ee1-4049-b816-8d3896f046ad",
                "language": "sql"
            },
            "source": [
                "2\\. Using the below code cell, return only customers that have placed more than 1 order. Only return the first name, last name, and email address fields."
            ]
        },
        {
            "attachments": {},
            "cell_type": "markdown",
            "metadata": {
                "azdata_cell_guid": "e3023180-670a-4e3a-943d-3a04355fa6fa",
                "language": "sql"
            },
            "source": [
                "**First 5 rows of correct solution**\n",
                "|first_name|last_name|email_address|\n",
                "|---|---|---|\n",
                "|Allan|Sherwood|allan.sherwood@yahoo.com|\n",
                "|Bette|Nicka|bette_nicka@cox.net|\n",
                "|David|Goldstein|david.goldstein@hotmail.com|\n",
                "|Heather|Esway|heatheresway@mac.com|\n",
                "|Kris|Marrier|kris@gmail.com|"
            ]
        },
        {
            "cell_type": "code",
            "execution_count": null,
            "metadata": {
                "azdata_cell_guid": "1c6c9167-8947-4d5d-a399-096cf43a7185",
                "language": "sql"
            },
            "outputs": [],
            "source": [
                "--Insert your code below this line.\n",
                "SELECT c.first_name, c.last_name, c.email_address\n",
                "FROM gs_customers AS c\n",
                "JOIN gs_orders o ON c.customer_id = o.customer_id\n",
                "GROUP BY c.first_name, c.last_name, c.email_address\n",
                "HAVING COUNT(o.order_id) > 1;"
            ]
        },
        {
            "attachments": {},
            "cell_type": "markdown",
            "metadata": {
                "azdata_cell_guid": "525c4a78-4eb7-4a83-b0ff-8fd0fc580daf",
                "language": "sql"
            },
            "source": [
                "3\\. Using the below code cell, return the total quantity of each product that has been ordered by all customers. Include two columns in your output: product name and total ordered."
            ]
        },
        {
            "attachments": {},
            "cell_type": "markdown",
            "metadata": {
                "azdata_cell_guid": "66d3777f-4d74-455b-be1c-b7f3fe1424e6",
                "language": "sql"
            },
            "source": [
                "**First 5 rows of correct solution**\n",
                "|product_name|total_ordered|\n",
                "|---|---|\n",
                "|Fender Precision|2|\n",
                "|Fender Stratocaster|7|\n",
                "|Gibson Les Paul|12|\n",
                "|Gibson SG|9|\n",
                "|Hofner Icon|3|"
            ]
        },
        {
            "cell_type": "code",
            "execution_count": null,
            "metadata": {
                "azdata_cell_guid": "f0e5edb2-7e4d-42f9-825a-ff394ae9da10",
                "language": "sql"
            },
            "outputs": [],
            "source": [
                "--Insert your code below this line.\n",
                "SELECT p.product_name, SUM(o.quantity) AS total_ordered\n",
                "FROM gs_products AS p\n",
                "JOIN gs_order_items AS o ON p.product_id = o.product_id\n",
                "GROUP BY p.product_name\n",
                "ORDER BY p.product_name ASC;"
            ]
        },
        {
            "attachments": {},
            "cell_type": "markdown",
            "metadata": {
                "azdata_cell_guid": "45881cc8-09ac-4cf6-94e3-c78cc86da47e",
                "language": "sql"
            },
            "source": [
                "4\\. Using the below code cell, return a report of how many customers are from each state in the dataset. Include two columns in your output: state and total customers.\n",
                "\n",
                "Join gs\\_addresses to gs\\_customer using address\\_id and shipping\\_address\\_id"
            ]
        },
        {
            "attachments": {},
            "cell_type": "markdown",
            "metadata": {
                "azdata_cell_guid": "aca43553-72f4-4711-b921-8563c63a1502",
                "language": "sql"
            },
            "source": [
                "**First 5 rows of correct solution**\n",
                "|state_code|total_customers|\n",
                "|---|---|\n",
                "|AK|5|\n",
                "|AR|1|\n",
                "|AZ|8|\n",
                "|CA|70|\n",
                "|CO|9|\n"
            ]
        },
        {
            "cell_type": "code",
            "execution_count": null,
            "metadata": {
                "azdata_cell_guid": "63c4f7c7-ff50-472d-bb09-af92af5635d3",
                "language": "sql"
            },
            "outputs": [],
            "source": [
                "--Insert your code below this line.\n",
                "SELECT a.state_code, COUNT(c.customer_id) AS total_customers\n",
                "FROM gs_customers c\n",
                "JOIN gs_addresses a ON c.shipping_address_id = a.address_id\n",
                "GROUP BY a.state_code\n",
                "ORDER BY a.state_code ASC;"
            ]
        },
        {
            "attachments": {},
            "cell_type": "markdown",
            "metadata": {
                "azdata_cell_guid": "48ca4832-dcda-49d0-a669-f5507420621f",
                "language": "sql"
            },
            "source": [
                "## **Scenario**\n",
                "\n",
                "The owner of Guitar Store wants you to create a query that will show the total amount charged for each order before shipping & tax, the order id, as well as information about the customer who placed the order. Your query will need to get the sum of all subtotals with in order and pull in the name and email of the customer.\n",
                "\n",
                "For complex queries like this, do not try to write them from top to bottom. Focus on one part of the problem and get that query working, then build and add on to it until you have the intended result.\n",
                "\n",
                "Create your query in the code cell below:"
            ]
        },
        {
            "attachments": {},
            "cell_type": "markdown",
            "metadata": {
                "azdata_cell_guid": "9741223e-1e5a-4d46-85c5-5241523cd540",
                "language": "sql"
            },
            "source": [
                "**First 5 rows of correct solution**\n",
                "|order_id|first_name|last_name|email_address|order_total|\n",
                "|---|---|---|---|---|\n",
                "|1|Allan|Sherwood|allan.sherwood@yahoo.com|839.30|\n",
                "|2|Barry|Zimmer|barryz@gmail.com|303.79|\n",
                "|3|Allan|Sherwood|allan.sherwood@yahoo.com|1461.31|\n",
                "|4|Christine|Brown|christineb@solarone.com|1678.60|\n",
                "|5|David|Goldstein|david.goldstein@hotmail.com|299.00|\n"
            ]
        },
        {
            "cell_type": "code",
            "execution_count": null,
            "metadata": {
                "azdata_cell_guid": "5e780b38-cee1-438b-9015-b7f346b40f03",
                "language": "sql"
            },
            "outputs": [],
            "source": [
                "--Insert your code below this line\n",
                "SELECT o.order_id, c.first_name, c.last_name, c.email_address, \n",
                "SUM(oi.quantity * (oi.item_price - oi.discount_amount)) AS order_total\n",
                "FROM gs_orders AS o\n",
                "JOIN gs_customers AS c ON o.customer_id = c.customer_id\n",
                "JOIN gs_order_items AS oi ON o.order_id = oi.order_id\n",
                "GROUP BY o.order_id, c.first_name, c.last_name, c.email_address\n",
                "ORDER BY o.order_id ASC;"
            ]
        }
    ],
    "metadata": {
        "kernelspec": {
            "display_name": "SQL",
            "language": "sql",
            "name": "SQL"
        },
        "language_info": {
            "name": "sql",
            "version": ""
        }
    },
    "nbformat": 4,
    "nbformat_minor": 2
}
